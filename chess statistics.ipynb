{
 "cells": [
  {
   "cell_type": "markdown",
   "id": "cbfcf193-978a-4e86-b13f-01b0f87d0748",
   "metadata": {},
   "source": [
    "# Chess statistics"
   ]
  },
  {
   "cell_type": "code",
   "execution_count": 1,
   "id": "22325ab5-fc1d-4338-a495-8ef223993adf",
   "metadata": {},
   "outputs": [],
   "source": [
    "import chess\n",
    "import numpy as np\n",
    "import pandas as pd\n",
    "import random\n",
    "\n",
    "from tqdm import tqdm\n",
    "from multiprocessing.pool import ThreadPool\n",
    "import matplotlib.pyplot as plt"
   ]
  },
  {
   "cell_type": "code",
   "execution_count": 2,
   "id": "7b674afd-8066-42a3-b422-3c2b1cd5749f",
   "metadata": {},
   "outputs": [],
   "source": [
    "def collect_move_average_per_game(dummy) -> float:\n",
    "    '''\n",
    "    ADD\n",
    "    '''\n",
    "    moves = []\n",
    "    board = chess.Board()\n",
    "    \n",
    "    while not (board.is_checkmate() or board.is_stalemate() or board.is_insufficient_material()):\n",
    "        moves += [len([move for move in board.legal_moves])]\n",
    "        move = random.choice([move for move in board.legal_moves])\n",
    "        board.push(move)\n",
    "    \n",
    "    return np.mean(moves)"
   ]
  },
  {
   "cell_type": "code",
   "execution_count": 3,
   "id": "9744460a-5ba8-42af-b3e4-b2f937cf3a7f",
   "metadata": {},
   "outputs": [
    {
     "name": "stderr",
     "output_type": "stream",
     "text": [
      "100%|██████████████████████████████████████████████████████████████████████████████████| 10/10 [00:04<00:00,  2.38it/s]\n"
     ]
    },
    {
     "data": {
      "text/plain": [
       "22.49664287185657"
      ]
     },
     "execution_count": 3,
     "metadata": {},
     "output_type": "execute_result"
    }
   ],
   "source": [
    "agg = []\n",
    "for i in tqdm(range(10)):\n",
    "    res = ThreadPool(32).map(collect_move_average_per_game,[None for _ in range(10)])\n",
    "    agg += [np.mean(res)]\n",
    "np.mean(agg)"
   ]
  },
  {
   "cell_type": "code",
   "execution_count": 4,
   "id": "671e15a2-5922-40af-8ff4-e0998df6d9e3",
   "metadata": {},
   "outputs": [
    {
     "data": {
      "text/plain": [
       "0.8900000000000001"
      ]
     },
     "execution_count": 4,
     "metadata": {},
     "output_type": "execute_result"
    }
   ],
   "source": [
    "value = 0\n",
    "games = 0\n",
    "for _ in range(200):\n",
    "    result = 1 if random.random() > 0.1 else 0\n",
    "    games += 1\n",
    "    value = value + ((result-value)/games)\n",
    "value"
   ]
  },
  {
   "cell_type": "code",
   "execution_count": 5,
   "id": "dd376e77-bcf9-49f3-9d0f-3478a93e866c",
   "metadata": {},
   "outputs": [],
   "source": [
    "# values = np.arange() \n",
    "# lambda loss"
   ]
  },
  {
   "cell_type": "code",
   "execution_count": 6,
   "id": "92372d8e-1c79-4eaa-8d5f-afeb1b09e352",
   "metadata": {},
   "outputs": [],
   "source": [
    "values = np.linspace(0,1,1000)"
   ]
  },
  {
   "cell_type": "code",
   "execution_count": 7,
   "id": "2c05dab0-e5e8-4c72-b4aa-f2d8c4612561",
   "metadata": {},
   "outputs": [],
   "source": [
    "loss = lambda val, loss: val*0.5**loss"
   ]
  },
  {
   "cell_type": "code",
   "execution_count": 8,
   "id": "e0c7418d-0c48-4713-8a4f-cece82762cba",
   "metadata": {},
   "outputs": [
    {
     "data": {
      "text/plain": [
       "[<matplotlib.lines.Line2D at 0x1e1ffe41970>]"
      ]
     },
     "execution_count": 8,
     "metadata": {},
     "output_type": "execute_result"
    },
    {
     "data": {
      "image/png": "[encoded data removed]",
      "text/plain": [
       "<Figure size 432x288 with 1 Axes>"
      ]
     },
     "metadata": {
      "needs_background": "light"
     },
     "output_type": "display_data"
    }
   ],
   "source": [
    "plt.plot(values)"
   ]
  },
  {
   "cell_type": "code",
   "execution_count": null,
   "id": "78093188-1632-4844-8f7a-cf2abd96de4f",
   "metadata": {},
   "outputs": [],
   "source": []
  },
  {
   "cell_type": "code",
   "execution_count": 9,
   "id": "d9a63e24-c806-4321-a40b-e65653aa8265",
   "metadata": {},
   "outputs": [
    {
     "data": {
      "image/png": "[encoded data removed]",
      "text/plain": [
       "<Figure size 432x288 with 1 Axes>"
      ]
     },
     "metadata": {
      "needs_background": "light"
     },
     "output_type": "display_data"
    }
   ],
   "source": [
    "fig = plt.figure()\n",
    "\n",
    "x = np.linspace(0,1,1000)\n",
    "loss = lambda val, loss: val*0.5**loss\n",
    "\n",
    "plt.plot(x,x)\n",
    "plt.plot(x,loss(x,1))\n",
    "plt.plot(x,loss(x,2))\n",
    "plt.plot(x,loss(x,3))\n",
    "plt.plot(x,loss(x,4))\n",
    "plt.plot(x,loss(x,5))\n",
    "plt.plot(x,loss(x,6))\n",
    "plt.plot(x,loss(x,7))\n",
    "\n",
    "plt.show()"
   ]
  },
  {
   "cell_type": "code",
   "execution_count": 10,
   "id": "f6fa593a-6556-409c-87fa-f3e18c728e20",
   "metadata": {},
   "outputs": [
    {
     "data": {
      "text/plain": [
       "<LegalMoveGenerator at 0x1e1fffbb910 (Nh3, Nf3, Nc3, Na3, h3, g3, f3, e3, d3, c3, b3, a3, h4, g4, f4, e4, d4, c4, b4, a4)>"
      ]
     },
     "execution_count": 10,
     "metadata": {},
     "output_type": "execute_result"
    }
   ],
   "source": [
    "chess.Board().legal_moves"
   ]
  },
  {
   "cell_type": "code",
   "execution_count": null,
   "id": "55f4ef1b-d77f-49e4-91c3-dc0e6f735b07",
   "metadata": {},
   "outputs": [],
   "source": []
  }
 ],
 "metadata": {
  "kernelspec": {
   "display_name": "Python 3",
   "language": "python",
   "name": "python3"
  },
  "language_info": {
   "codemirror_mode": {
    "name": "ipython",
    "version": 3
   },
   "file_extension": ".py",
   "mimetype": "text/x-python",
   "name": "python",
   "nbconvert_exporter": "python",
   "pygments_lexer": "ipython3",
   "version": "3.8.8"
  }
 },
 "nbformat": 4,
 "nbformat_minor": 5
}
