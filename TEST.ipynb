{
 "cells": [
  {
   "cell_type": "code",
   "execution_count": 1,
   "id": "26d9f9b9-56e8-458b-8b90-30d21107f324",
   "metadata": {},
   "outputs": [],
   "source": [
    "import chess\n",
    "import numpy as np\n",
    "import tensorflow as tf"
   ]
  },
  {
   "cell_type": "code",
   "execution_count": 16,
   "id": "640640fb-653b-4f6a-864e-a573c67fea9e",
   "metadata": {},
   "outputs": [],
   "source": [
    "from lib.engine import *\n",
    "from model.model import *\n",
    "from model.heuristics import *\n",
    "from model.mcts import MctsNode, MctsTree"
   ]
  },
  {
   "cell_type": "code",
   "execution_count": null,
   "id": "16cfd229-15d8-4988-bac4-8da47c057a1b",
   "metadata": {},
   "outputs": [],
   "source": []
  },
  {
   "cell_type": "code",
   "execution_count": null,
   "id": "8d2ded55-b29c-4109-bdd1-313ca54159d6",
   "metadata": {},
   "outputs": [],
   "source": []
  },
  {
   "cell_type": "code",
   "execution_count": 4,
   "id": "33032b5c-baca-4a0f-9f89-04a3b2b74183",
   "metadata": {},
   "outputs": [],
   "source": []
  },
  {
   "cell_type": "code",
   "execution_count": null,
   "id": "fd8d115e-bb50-476e-952b-a0447279067e",
   "metadata": {},
   "outputs": [],
   "source": []
  },
  {
   "cell_type": "code",
   "execution_count": 2,
   "id": "7cef66b1-f86a-4cf4-bd9a-760251bc9627",
   "metadata": {},
   "outputs": [],
   "source": []
  },
  {
   "cell_type": "markdown",
   "id": "ec141f4e-ee05-4747-b5d8-aee663ae7d75",
   "metadata": {},
   "source": [
    "https://stackoverflow.com/questions/11302656/shared-memory-between-python-processes\n",
    "https://stackoverflow.com/questions/1268252/possible-to-share-in-memory-data-between-2-separate-processes\n",
    "https://stackoverflow.com/users/81179/christophed\n",
    "https://docs.python.org/3/library/multiprocessing.html#sharing-state-between-processes\n",
    "https://docs.python.org/3.10/library/multiprocessing.shared_memory.html\n",
    "https://docs.python.org/3/library/multiprocessing.shared_memory.html"
   ]
  },
  {
   "cell_type": "code",
   "execution_count": 1,
   "id": "0506d648-a9e6-476c-9348-9043f33bbba7",
   "metadata": {},
   "outputs": [],
   "source": [
    "# model = ChessModel()\n",
    "# game = ChessGame()\n",
    "\n",
    "# input_tensor = game.get_input_tensor()\n",
    "# input_tensor = input_tensor\n",
    "\n",
    "# output_tensor = model(input_tensor)\n",
    "\n",
    "# value_tensor = output_tensor[0]\n",
    "# policy_tensor = output_tensor[1]\n",
    "# policy_argmax_choice(policy_tensor.numpy(),game.possible_moves)"
   ]
  },
  {
   "cell_type": "code",
   "execution_count": null,
   "id": "d7832c30-6807-486e-81a8-226698b78b5a",
   "metadata": {},
   "outputs": [],
   "source": []
  }
 ],
 "metadata": {
  "kernelspec": {
   "display_name": "Python 3",
   "language": "python",
   "name": "python3"
  },
  "language_info": {
   "codemirror_mode": {
    "name": "ipython",
    "version": 3
   },
   "file_extension": ".py",
   "mimetype": "text/x-python",
   "name": "python",
   "nbconvert_exporter": "python",
   "pygments_lexer": "ipython3",
   "version": "3.8.8"
  }
 },
 "nbformat": 4,
 "nbformat_minor": 5
}
