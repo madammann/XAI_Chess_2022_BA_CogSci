{
 "cells": [
  {
   "cell_type": "code",
   "execution_count": 1,
   "id": "87f0df77-81f6-4f94-aaa6-0f1e6b961fc4",
   "metadata": {},
   "outputs": [],
   "source": [
    "def episode():\n",
    "    pass"
   ]
  },
  {
   "cell_type": "code",
   "execution_count": 2,
   "id": "9af82225-6f2e-44ac-9978-89aa48fea826",
   "metadata": {},
   "outputs": [],
   "source": [
    "def epoch():\n",
    "    pass"
   ]
  },
  {
   "cell_type": "code",
   "execution_count": 3,
   "id": "aa446d8d-e63e-431c-a896-f5a10fb0efd1",
   "metadata": {},
   "outputs": [],
   "source": [
    "def training():\n",
    "    pass"
   ]
  },
  {
   "cell_type": "code",
   "execution_count": 18,
   "id": "72f5c63b-b281-465e-ab86-f7ddc0bac7e0",
   "metadata": {},
   "outputs": [],
   "source": [
    "def initialize():\n",
    "    '''\n",
    "    ADD\n",
    "    Initialize models and training params etc.\n",
    "    '''\n",
    "    \n",
    "    pass"
   ]
  },
  {
   "cell_type": "code",
   "execution_count": 19,
   "id": "75d8d740-49f6-4683-b3d9-789eaacd8639",
   "metadata": {},
   "outputs": [],
   "source": [
    "def epsilon_annealing(epsilon : float) -> float:\n",
    "    '''\n",
    "    ADD\n",
    "    '''\n",
    "    \n",
    "    pass"
   ]
  },
  {
   "cell_type": "code",
   "execution_count": null,
   "id": "cf84b354-604b-426c-9472-f4d1596b8b09",
   "metadata": {},
   "outputs": [],
   "source": [
    "def update_step():\n",
    "    '''\n",
    "    ADD\n",
    "    Potentially not relevant and included in episode step.\n",
    "    '''\n",
    "    pass"
   ]
  },
  {
   "cell_type": "code",
   "execution_count": null,
   "id": "620ffa14-8441-4af7-b362-37f1e9883010",
   "metadata": {},
   "outputs": [],
   "source": [
    "def load_model_from(path : str):\n",
    "    '''\n",
    "    ADD\n",
    "    '''\n",
    "    \n",
    "    pass"
   ]
  },
  {
   "cell_type": "code",
   "execution_count": null,
   "id": "b8f9eef0-d49b-47d6-be54-bf0809b414c7",
   "metadata": {},
   "outputs": [],
   "source": []
  }
 ],
 "metadata": {
  "kernelspec": {
   "display_name": "Python 3",
   "language": "python",
   "name": "python3"
  },
  "language_info": {
   "codemirror_mode": {
    "name": "ipython",
    "version": 3
   },
   "file_extension": ".py",
   "mimetype": "text/x-python",
   "name": "python",
   "nbconvert_exporter": "python",
   "pygments_lexer": "ipython3",
   "version": "3.8.8"
  }
 },
 "nbformat": 4,
 "nbformat_minor": 5
}
