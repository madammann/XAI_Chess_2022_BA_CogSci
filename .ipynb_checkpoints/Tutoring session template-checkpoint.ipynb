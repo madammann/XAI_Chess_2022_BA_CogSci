{
 "cells": [
  {
   "cell_type": "markdown",
   "id": "bf58601b-6c1c-416a-80de-e7231e40f53f",
   "metadata": {},
   "source": [
    "# Tutorial Session 01 - Marlon (XY/XY/2022 XY:XY)\n",
    "## Topic\n",
    "Short intro to the topic\n",
    "\n",
    "## Training exercises\n",
    "Brief description of exercises to come..."
   ]
  },
  {
   "cell_type": "markdown",
   "id": "9eea9b28-6a04-41ed-bf7f-a90ffd2e0a94",
   "metadata": {},
   "source": [
    "### Exercise 1 - Name\n",
    "Description of the task\n",
    "\n",
    "#### Task\n",
    "Concrete task plus advice"
   ]
  },
  {
   "cell_type": "code",
   "execution_count": null,
   "id": "941f7801-55a5-4302-938b-fe0c8d7e5673",
   "metadata": {},
   "outputs": [],
   "source": []
  },
  {
   "cell_type": "markdown",
   "id": "ba74d484-a2ad-43d4-872c-7477cbe8de53",
   "metadata": {},
   "source": [
    "#### Solution\n",
    "What has been done"
   ]
  },
  {
   "cell_type": "code",
   "execution_count": null,
   "id": "b0588f39-f607-4931-a061-c82b540166e4",
   "metadata": {},
   "outputs": [],
   "source": []
  },
  {
   "cell_type": "markdown",
   "id": "957b3842-8f62-442b-b5d6-3ae9fca13d2d",
   "metadata": {},
   "source": [
    "## Conclusion\n",
    "ADD\n",
    "\n",
    "## References\n",
    "ADD"
   ]
  },
  {
   "cell_type": "code",
   "execution_count": null,
   "id": "609e380d-cabc-4f77-8b8c-fe1bbfcff243",
   "metadata": {},
   "outputs": [],
   "source": []
  }
 ],
 "metadata": {
  "kernelspec": {
   "display_name": "Python 3",
   "language": "python",
   "name": "python3"
  },
  "language_info": {
   "codemirror_mode": {
    "name": "ipython",
    "version": 3
   },
   "file_extension": ".py",
   "mimetype": "text/x-python",
   "name": "python",
   "nbconvert_exporter": "python",
   "pygments_lexer": "ipython3",
   "version": "3.8.8"
  }
 },
 "nbformat": 4,
 "nbformat_minor": 5
}
