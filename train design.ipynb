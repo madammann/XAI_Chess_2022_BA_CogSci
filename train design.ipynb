{
 "cells": [
  {
   "cell_type": "code",
   "execution_count": null,
   "id": "b8f9eef0-d49b-47d6-be54-bf0809b414c7",
   "metadata": {},
   "outputs": [],
   "source": [
    "import chess\n",
    "import os\n",
    "import time\n",
    "\n",
    "import numpy as np\n",
    "import pandas as pd\n",
    "\n",
    "import tensorflow as tf\n",
    "import tensorflow_datasets as tfds\n",
    "\n",
    "from datetime import datetime, timedelta\n",
    "from tqdm import tqdm\n",
    "\n",
    "from model.model import ChessModel\n",
    "from model.mcts import MctsTree\n",
    "from model.default_policies import cnn_simulation, random_simulation\n",
    "from lib.engine import ChessGame\n",
    "from lib.utils import get_policy_index, get_padded_move_probabilities"
   ]
  },
  {
   "cell_type": "code",
   "execution_count": null,
   "id": "9769243c-c52a-4ef1-b6b0-aae6ad81dfba",
   "metadata": {},
   "outputs": [],
   "source": [
    "from training import TrainingHandler"
   ]
  },
  {
   "cell_type": "code",
   "execution_count": null,
   "id": "72fb8888-e148-4595-bad5-c0132aa0262b",
   "metadata": {},
   "outputs": [],
   "source": [
    "handler = TrainingHandler(pretraining=True, dataset_path='D:/ChessDataset/chess_dataset_train.csv')"
   ]
  },
  {
   "cell_type": "code",
   "execution_count": null,
   "id": "20112744-2981-4aad-95ef-c04fcbfbc054",
   "metadata": {},
   "outputs": [],
   "source": [
    "handler.training(endtime=datetime.now()+timedelta(minutes=200))"
   ]
  },
  {
   "cell_type": "code",
   "execution_count": null,
   "id": "43929481-aa46-4f9b-a543-0e122bcc88a1",
   "metadata": {},
   "outputs": [],
   "source": []
  },
  {
   "cell_type": "code",
   "execution_count": null,
   "id": "0027ed43-bd8d-409e-ae25-f8bea338179e",
   "metadata": {},
   "outputs": [],
   "source": [
    "# handler.training(goal=(9,1))"
   ]
  },
  {
   "cell_type": "code",
   "execution_count": null,
   "id": "946de602-a801-4ad6-a8ba-ab5521cfe937",
   "metadata": {},
   "outputs": [],
   "source": [
    "s = 60*3 #number of seconds per episode\n",
    "(((150000*s)/60)/60)/24 #total training time for 150.000 episodes in days"
   ]
  },
  {
   "cell_type": "code",
   "execution_count": null,
   "id": "3f12247f-cffe-41b4-8293-fe650c94d221",
   "metadata": {},
   "outputs": [],
   "source": []
  }
 ],
 "metadata": {
  "kernelspec": {
   "display_name": "Python 3",
   "language": "python",
   "name": "python3"
  },
  "language_info": {
   "codemirror_mode": {
    "name": "ipython",
    "version": 3
   },
   "file_extension": ".py",
   "mimetype": "text/x-python",
   "name": "python",
   "nbconvert_exporter": "python",
   "pygments_lexer": "ipython3",
   "version": "3.8.8"
  }
 },
 "nbformat": 4,
 "nbformat_minor": 5
}
