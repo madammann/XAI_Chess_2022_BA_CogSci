{
 "cells": [
  {
   "cell_type": "code",
   "execution_count": 1,
   "id": "e2490703-ef78-4c77-80ad-f2cc34c4e3ac",
   "metadata": {},
   "outputs": [],
   "source": [
    "import mmap\n",
    "import struct\n",
    "\n",
    "import numpy as np\n",
    "import tensorflow as tf\n",
    "import chess\n",
    "\n",
    "from multiprocessing.pool import ThreadPool\n",
    "from copy import deepcopy\n",
    "from datetime import datetime\n",
    "\n",
    "from lib.engine import ChessGame\n",
    "from model.default_policies import random_simulation, lossavoid_simulation, heuristic_simulation, cnn_simulation\n",
    "from model.model import ChessModel\n",
    "from model.mcts import MctsNode, MctsTree\n",
    "from model.heuristics import *"
   ]
  },
  {
   "cell_type": "code",
   "execution_count": 2,
   "id": "e171c994-b5fe-4705-af27-c9d9da4f5441",
   "metadata": {},
   "outputs": [],
   "source": [
    "model = ChessModel()\n",
    "simulation = lambda game: cnn_simulation(game, model)"
   ]
  },
  {
   "cell_type": "code",
   "execution_count": 3,
   "id": "3401e85a-80ab-42f1-982b-db932fc018e4",
   "metadata": {},
   "outputs": [],
   "source": [
    "moves = ['d2d4','d7d5','c1f4','e7e6','g1f3','g8f6']\n",
    "# moves = ['e2e4','e7e5','d1h5','b8c6','f1c4','a7a6']\n",
    "# moves = ['e2e4','e7e5','d1h5','b8c6','f1c4']\n",
    "game = ChessGame(initial_moves=moves)"
   ]
  },
  {
   "cell_type": "code",
   "execution_count": 4,
   "id": "7efe0862-1236-4547-8b77-c8575e69ec4e",
   "metadata": {},
   "outputs": [],
   "source": [
    "tree = MctsTree(game)"
   ]
  },
  {
   "cell_type": "code",
   "execution_count": 5,
   "id": "b2c956c7-0921-48e8-9e6e-a2a35b042cd9",
   "metadata": {},
   "outputs": [
    {
     "name": "stdout",
     "output_type": "stream",
     "text": [
      "MctsTree object with root node MctsNode(None,idx=0,val=0.0,games=0,proven=False)\n",
      "Total node count 1.\n"
     ]
    }
   ],
   "source": [
    "print(tree)"
   ]
  },
  {
   "cell_type": "code",
   "execution_count": 6,
   "id": "eba14dda-08ae-4b23-8498-c11579b31984",
   "metadata": {},
   "outputs": [],
   "source": [
    "start = datetime.now()\n",
    "policy = tree(random_simulation,game_limit=1e5)\n",
    "time = (datetime.now()-start)"
   ]
  },
  {
   "cell_type": "code",
   "execution_count": 7,
   "id": "a45adcae-9709-4be8-8033-1a1576053792",
   "metadata": {},
   "outputs": [
    {
     "name": "stdout",
     "output_type": "stream",
     "text": [
      "0:04:54.390593\n"
     ]
    }
   ],
   "source": [
    "print(time)"
   ]
  },
  {
   "cell_type": "code",
   "execution_count": 8,
   "id": "3a8668e0-6e68-433e-ae05-14e9ac875352",
   "metadata": {},
   "outputs": [
    {
     "data": {
      "text/plain": [
       "array([0.02924692, 0.02924692, 0.02911518, 0.02924692, 0.02924692,\n",
       "       0.02924692, 0.02924697, 0.02924692, 0.02933487, 0.02924692,\n",
       "       0.03206121, 0.02942282, 0.02924692, 0.02925242, 0.02924831,\n",
       "       0.02911279, 0.02924692, 0.02925242, 0.02924692, 0.02925792,\n",
       "       0.0292483 , 0.02924692, 0.02926891, 0.02924692, 0.02924692,\n",
       "       0.02924693, 0.0292909 , 0.02924692, 0.02924692, 0.02913424,\n",
       "       0.03206121, 0.02924692, 0.02924692, 0.02924692])"
      ]
     },
     "execution_count": 8,
     "metadata": {},
     "output_type": "execute_result"
    }
   ],
   "source": [
    "policy"
   ]
  },
  {
   "cell_type": "code",
   "execution_count": 15,
   "id": "d9dbbf21-bc39-41a6-bc5e-271fb7d25634",
   "metadata": {},
   "outputs": [
    {
     "data": {
      "text/plain": [
       "0.03206120975770798"
      ]
     },
     "execution_count": 15,
     "metadata": {},
     "output_type": "execute_result"
    }
   ],
   "source": [
    "policy[np.argmax(policy)]"
   ]
  },
  {
   "cell_type": "code",
   "execution_count": 11,
   "id": "f0996e1d-1431-4c8d-9cbf-cbfc08e36724",
   "metadata": {},
   "outputs": [
    {
     "data": {
      "text/plain": [
       "'f3e5'"
      ]
     },
     "execution_count": 11,
     "metadata": {},
     "output_type": "execute_result"
    }
   ],
   "source": [
    "tree.bestmove()"
   ]
  },
  {
   "cell_type": "code",
   "execution_count": null,
   "id": "7c106469-50d0-4d16-be71-23b73ef04b11",
   "metadata": {},
   "outputs": [],
   "source": []
  },
  {
   "cell_type": "code",
   "execution_count": 19,
   "id": "96923bf2-7bb1-4275-8557-25710e312b0e",
   "metadata": {},
   "outputs": [],
   "source": [
    "class LossConverter(tf.keras.losses.Loss):\n",
    "    '''\n",
    "    ADD\n",
    "    '''\n",
    "    \n",
    "    def __call__(self, pred_values : tf.Tensor, true_values : tf.Tensor, policy : tf.Tensor, move_probabilities : tf.Tensor) -> tf.Tensor:\n",
    "        '''\n",
    "        ADD\n",
    "        '''\n",
    "        \n",
    "        return tf.reduce_mean(tf.math.square(pred_values, true_values)-tf.multiply(move_probabilities,tf.math.log(policy)),axis=-1)"
   ]
  },
  {
   "cell_type": "code",
   "execution_count": 20,
   "id": "993942fd-f0c6-4db0-b663-da7b2e39f968",
   "metadata": {},
   "outputs": [
    {
     "data": {
      "text/plain": [
       "<tf.Tensor: shape=(2,), dtype=float32, numpy=array([nan, nan], dtype=float32)>"
      ]
     },
     "execution_count": 20,
     "metadata": {},
     "output_type": "execute_result"
    }
   ],
   "source": [
    "LossConverter()(tf.random.normal((2,1)),tf.constant([[-1,0]],dtype=tf.float32),tf.random.normal((2,34)), tf.random.normal((2,34)))"
   ]
  },
  {
   "cell_type": "code",
   "execution_count": null,
   "id": "731f088d-d09c-474e-9f3e-5086d0f49515",
   "metadata": {},
   "outputs": [],
   "source": []
  },
  {
   "cell_type": "code",
   "execution_count": null,
   "id": "00113183-0211-4ec1-909c-da88295ca908",
   "metadata": {},
   "outputs": [],
   "source": []
  },
  {
   "cell_type": "code",
   "execution_count": null,
   "id": "a963a9fe-770b-44c2-97f3-b6fd16b0a644",
   "metadata": {},
   "outputs": [],
   "source": []
  }
 ],
 "metadata": {
  "kernelspec": {
   "display_name": "Python 3",
   "language": "python",
   "name": "python3"
  },
  "language_info": {
   "codemirror_mode": {
    "name": "ipython",
    "version": 3
   },
   "file_extension": ".py",
   "mimetype": "text/x-python",
   "name": "python",
   "nbconvert_exporter": "python",
   "pygments_lexer": "ipython3",
   "version": "3.8.8"
  }
 },
 "nbformat": 4,
 "nbformat_minor": 5
}
