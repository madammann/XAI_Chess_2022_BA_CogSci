{
 "cells": [
  {
   "cell_type": "code",
   "execution_count": 1,
   "id": "e2490703-ef78-4c77-80ad-f2cc34c4e3ac",
   "metadata": {},
   "outputs": [],
   "source": [
    "import mmap\n",
    "import struct\n",
    "\n",
    "import numpy as np\n",
    "import tensorflow as tf\n",
    "import chess\n",
    "\n",
    "from multiprocessing.pool import ThreadPool\n",
    "from copy import deepcopy\n",
    "from datetime import datetime\n",
    "\n",
    "from lib.engine import ChessGame\n",
    "from model.default_policies import random_simulation, lossavoid_simulation, heuristic_simulation, cnn_simulation\n",
    "from model.model import ChessModel\n",
    "from model.mcts import MctsNode, MctsTree\n",
    "from model.heuristics import *"
   ]
  },
  {
   "cell_type": "code",
   "execution_count": 2,
   "id": "e171c994-b5fe-4705-af27-c9d9da4f5441",
   "metadata": {},
   "outputs": [],
   "source": [
    "model = ChessModel()\n",
    "simulation = lambda game: cnn_simulation(game, model)"
   ]
  },
  {
   "cell_type": "code",
   "execution_count": 3,
   "id": "3401e85a-80ab-42f1-982b-db932fc018e4",
   "metadata": {},
   "outputs": [],
   "source": [
    "moves = ['d2d4','d7d5','c1f4','e7e6','g1f3','g8f6']\n",
    "# moves = ['e2e4','e7e5','d1h5','b8c6','f1c4','a7a6']\n",
    "# moves = ['e2e4','e7e5','d1h5','b8c6','f1c4']\n",
    "game = ChessGame(initial_moves=moves)"
   ]
  },
  {
   "cell_type": "code",
   "execution_count": 4,
   "id": "7efe0862-1236-4547-8b77-c8575e69ec4e",
   "metadata": {},
   "outputs": [],
   "source": [
    "tree = MctsTree(game)"
   ]
  },
  {
   "cell_type": "code",
   "execution_count": 5,
   "id": "b2c956c7-0921-48e8-9e6e-a2a35b042cd9",
   "metadata": {},
   "outputs": [
    {
     "name": "stdout",
     "output_type": "stream",
     "text": [
      "MctsTree object with root node MctsNode(None,idx=0,val=0.0,games=0,proven=False)\n",
      "Total node count 1.\n"
     ]
    }
   ],
   "source": [
    "print(tree)"
   ]
  },
  {
   "cell_type": "code",
   "execution_count": 6,
   "id": "eba14dda-08ae-4b23-8498-c11579b31984",
   "metadata": {},
   "outputs": [],
   "source": [
    "start = datetime.now()\n",
    "policy = tree(random_simulation,game_limit=1e5)\n",
    "time = (datetime.now()-start)"
   ]
  },
  {
   "cell_type": "code",
   "execution_count": 7,
   "id": "a45adcae-9709-4be8-8033-1a1576053792",
   "metadata": {},
   "outputs": [
    {
     "name": "stdout",
     "output_type": "stream",
     "text": [
      "0:04:11.671618\n"
     ]
    }
   ],
   "source": [
    "print(time)"
   ]
  },
  {
   "cell_type": "code",
   "execution_count": 8,
   "id": "3a8668e0-6e68-433e-ae05-14e9ac875352",
   "metadata": {},
   "outputs": [
    {
     "data": {
      "text/plain": [
       "array([0.02925985, 0.02942216, 0.02942216, 0.02938887, 0.02938851,\n",
       "       0.02938851, 0.02928301, 0.02938869, 0.02938853, 0.02938851,\n",
       "       0.02941194, 0.02997876, 0.02928301, 0.02938851, 0.02938851,\n",
       "       0.02960772, 0.02938851, 0.02938851, 0.02938851, 0.02942216,\n",
       "       0.02938851, 0.02960769, 0.02938851, 0.02938924, 0.02938851,\n",
       "       0.02939441, 0.02938851, 0.02932939, 0.02939144, 0.02938851,\n",
       "       0.02939144, 0.02938851, 0.02938851, 0.02941194])"
      ]
     },
     "execution_count": 8,
     "metadata": {},
     "output_type": "execute_result"
    }
   ],
   "source": [
    "policy"
   ]
  },
  {
   "cell_type": "code",
   "execution_count": 9,
   "id": "d9dbbf21-bc39-41a6-bc5e-271fb7d25634",
   "metadata": {},
   "outputs": [
    {
     "data": {
      "text/plain": [
       "0.029978759353726535"
      ]
     },
     "execution_count": 9,
     "metadata": {},
     "output_type": "execute_result"
    }
   ],
   "source": [
    "policy[np.argmax(policy)]"
   ]
  },
  {
   "cell_type": "code",
   "execution_count": 10,
   "id": "f0996e1d-1431-4c8d-9cbf-cbfc08e36724",
   "metadata": {},
   "outputs": [
    {
     "data": {
      "text/plain": [
       "'f3h4'"
      ]
     },
     "execution_count": 10,
     "metadata": {},
     "output_type": "execute_result"
    }
   ],
   "source": [
    "tree.bestmove()"
   ]
  },
  {
   "cell_type": "code",
   "execution_count": null,
   "id": "7c106469-50d0-4d16-be71-23b73ef04b11",
   "metadata": {},
   "outputs": [],
   "source": []
  },
  {
   "cell_type": "code",
   "execution_count": 23,
   "id": "96923bf2-7bb1-4275-8557-25710e312b0e",
   "metadata": {},
   "outputs": [],
   "source": [
    "class LossConverter():\n",
    "    '''\n",
    "    ADD\n",
    "    '''\n",
    "    \n",
    "    def __call__(self, pred_values : tf.Tensor, true_values : tf.Tensor, policy : tf.Tensor, move_probabilities : tf.Tensor) -> tf.Tensor:\n",
    "        '''\n",
    "        ADD\n",
    "        \n",
    "        :param a: A tensor of shape (batch,1) with the predicted value for a given position.\n",
    "        :param b: A tensor of shape (batch,1) with the terminal value of the game this position was played in in this outcome (maybe discount?).\n",
    "        :param c: A tensor of shape (batch,34) with the policy from the network for a given position.\n",
    "        :param d: A tensor of shape (batch,34) with the move probabilities from MCTS for a given position which was searched using the network as heuristic.\n",
    "        '''\n",
    "        \n",
    "        MSE = tf.losses.mean_squared_error(pred_values, true_values)\n",
    "        CCE = tf.losses.categorical_crossentropy(policy, move_probabilities)\n",
    "        \n",
    "        return MSE-CCE"
   ]
  },
  {
   "cell_type": "code",
   "execution_count": 24,
   "id": "993942fd-f0c6-4db0-b663-da7b2e39f968",
   "metadata": {},
   "outputs": [
    {
     "data": {
      "text/plain": [
       "<tf.Tensor: shape=(3,), dtype=float32, numpy=array([ 55.488285 ,  -7.8149366, -13.102826 ], dtype=float32)>"
      ]
     },
     "execution_count": 24,
     "metadata": {},
     "output_type": "execute_result"
    }
   ],
   "source": [
    "LossConverter()(tf.random.normal((3,1)),tf.constant([[-1,0,1]],dtype=tf.float32),tf.random.normal((3,34)), tf.random.normal((3,34)))"
   ]
  },
  {
   "cell_type": "code",
   "execution_count": 30,
   "id": "731f088d-d09c-474e-9f3e-5086d0f49515",
   "metadata": {},
   "outputs": [
    {
     "data": {
      "text/plain": [
       "<tf.Tensor: shape=(1,), dtype=float32, numpy=array([168.98769], dtype=float32)>"
      ]
     },
     "execution_count": 30,
     "metadata": {},
     "output_type": "execute_result"
    }
   ],
   "source": [
    "LossConverter()(tf.constant([[-1]],dtype=tf.float32),tf.constant([[-1]],dtype=tf.float32),pol, pol)"
   ]
  },
  {
   "cell_type": "code",
   "execution_count": 45,
   "id": "00113183-0211-4ec1-909c-da88295ca908",
   "metadata": {},
   "outputs": [],
   "source": [
    "pol = tf.random.uniform((1,34))"
   ]
  },
  {
   "cell_type": "code",
   "execution_count": 53,
   "id": "a963a9fe-770b-44c2-97f3-b6fd16b0a644",
   "metadata": {},
   "outputs": [
    {
     "data": {
      "text/plain": [
       "<tf.Tensor: shape=(1,), dtype=float32, numpy=array([50.43285], dtype=float32)>"
      ]
     },
     "execution_count": 53,
     "metadata": {},
     "output_type": "execute_result"
    }
   ],
   "source": [
    "tf.losses.categorical_crossentropy(tf.random.uniform((1,34)),tf.random.uniform((1,34)))"
   ]
  },
  {
   "cell_type": "code",
   "execution_count": 54,
   "id": "9c726baa-62a5-47a6-bc55-40907507b8d5",
   "metadata": {},
   "outputs": [
    {
     "data": {
      "text/plain": [
       "<tf.Tensor: shape=(1,), dtype=float32, numpy=array([45.747063], dtype=float32)>"
      ]
     },
     "execution_count": 54,
     "metadata": {},
     "output_type": "execute_result"
    }
   ],
   "source": [
    "tf.losses.categorical_crossentropy(pol,pol)"
   ]
  },
  {
   "cell_type": "code",
   "execution_count": 3,
   "id": "fb277e7c-c6e8-4805-8ee8-a94102de2f48",
   "metadata": {},
   "outputs": [],
   "source": [
    "def lmao(a):\n",
    "    return ('e2e3,e3e4,e4e5,e5e6',a)"
   ]
  },
  {
   "cell_type": "code",
   "execution_count": 5,
   "id": "0bb8152e-fe6f-4a7e-b02a-d67b6d19a28c",
   "metadata": {},
   "outputs": [],
   "source": [
    "thread_results = ThreadPool(100).map(lmao, [1,2,3,4,5,6,7])"
   ]
  },
  {
   "cell_type": "code",
   "execution_count": 8,
   "id": "7184c42f-5d05-4583-8fec-cac3e5bece9d",
   "metadata": {},
   "outputs": [
    {
     "data": {
      "text/plain": [
       "['e2e3,e3e4,e4e5,e5e6',\n",
       " 'e2e3,e3e4,e4e5,e5e6',\n",
       " 'e2e3,e3e4,e4e5,e5e6',\n",
       " 'e2e3,e3e4,e4e5,e5e6',\n",
       " 'e2e3,e3e4,e4e5,e5e6',\n",
       " 'e2e3,e3e4,e4e5,e5e6',\n",
       " 'e2e3,e3e4,e4e5,e5e6']"
      ]
     },
     "execution_count": 8,
     "metadata": {},
     "output_type": "execute_result"
    }
   ],
   "source": [
    "[res[0] for res in thread_results]"
   ]
  },
  {
   "cell_type": "code",
   "execution_count": 1,
   "id": "009377d5-7370-4170-9f4f-9f52af35309f",
   "metadata": {},
   "outputs": [
    {
     "data": {
      "text/plain": [
       "'.processed'"
      ]
     },
     "execution_count": 1,
     "metadata": {},
     "output_type": "execute_result"
    }
   ],
   "source": [
    "'wefowhgiurebhgoirengr.processed'[-10:]"
   ]
  },
  {
   "cell_type": "code",
   "execution_count": null,
   "id": "d92388bf-8bac-4ccd-bb7c-c9ccf637dd76",
   "metadata": {},
   "outputs": [],
   "source": []
  }
 ],
 "metadata": {
  "kernelspec": {
   "display_name": "Python 3",
   "language": "python",
   "name": "python3"
  },
  "language_info": {
   "codemirror_mode": {
    "name": "ipython",
    "version": 3
   },
   "file_extension": ".py",
   "mimetype": "text/x-python",
   "name": "python",
   "nbconvert_exporter": "python",
   "pygments_lexer": "ipython3",
   "version": "3.8.8"
  }
 },
 "nbformat": 4,
 "nbformat_minor": 5
}
